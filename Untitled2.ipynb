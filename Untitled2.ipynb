{
 "cells": [
  {
   "cell_type": "code",
   "execution_count": 2,
   "metadata": {},
   "outputs": [
    {
     "name": "stdout",
     "output_type": "stream",
     "text": [
      "52.0\n",
      "69.0\n"
     ]
    }
   ],
   "source": [
    "import tensorflow as tf\n",
    "\n",
    "x = tf.constant([35.25,36,85], name='x')\n",
    "y = tf.constant([25,12,14.25123], name='y')\n",
    "\n",
    "model = tf.global_variables_initializer()\n",
    "\n",
    "\n",
    "\n",
    "s1=tf.constant(0)\n",
    "with tf.name_scope(\"mean_x\"):\n",
    "    with tf.Session() as sess:\n",
    "        for i in range(len(sess.run(x))):\n",
    "            out1 =sess.run(x[i])\n",
    "            s1=tf.add(s1,out1)\n",
    "        b=tf.divide(s1,len(sess.run(x)))\n",
    "        avg_x=sess.run(b)\n",
    "print(avg_x)\n",
    "\n",
    "\n",
    "s1=tf.constant(0)\n",
    "with tf.name_scope(\"mean_y\"):\n",
    "    with tf.Session() as sess:\n",
    "        for i in range(len(sess.run(y))):\n",
    "            out2 =sess.run(y[i])\n",
    "            s1=tf.add(s1,out2)\n",
    "        c=tf.divide(s1,len(sess.run(y)))\n",
    "        avg_y=sess.run(c)\n",
    "print(avg_y)\n"
   ]
  },
  {
   "cell_type": "code",
   "execution_count": 6,
   "metadata": {},
   "outputs": [
    {
     "name": "stdout",
     "output_type": "stream",
     "text": [
      "1625.56\n",
      "-157.709\n",
      "-0.0970184\n",
      "Tensor(\"value_of_m/Sub:0\", shape=(), dtype=float32)\n"
     ]
    }
   ],
   "source": [
    "#Calculate variance for x\n",
    "var=tf.constant(0.0)\n",
    "with tf.name_scope(\"variance\"):\n",
    "    with tf.Session() as sess:\n",
    "        for i in range(len(sess.run(x))):\n",
    "            a=tf.subtract(sess.run(x[i]),avg_x)\n",
    "            b=tf.square(a)\n",
    "            var=tf.add(var,b)\n",
    "        variance=sess.run(var)\n",
    "print(variance)\n",
    "\n",
    "\n",
    "\n",
    "#Calculate covariance of x & y\n",
    "s1=tf.constant(0.0)\n",
    "with tf.name_scope(\"covariance\"):\n",
    "    with tf.Session() as sess:\n",
    "        for i in range(len(sess.run(x))):\n",
    "            a=tf.subtract(sess.run(x[i]),avg_x)\n",
    "            b=tf.subtract(sess.run(y[i]),avg_y)\n",
    "            c=tf.multiply(a,b)\n",
    "            s1=tf.add(s1,c)\n",
    "        covariance=sess.run(s1)\n",
    "print(covariance)\n",
    "\n",
    "\n",
    "with tf.name_scope(\"value_of_c\"):\n",
    "    f=tf.divide(covariance,variance)\n",
    "print(f)\n",
    "\n",
    "\n",
    "\n",
    "with tf.name_scope(\"value_of_m\"):\n",
    "    z=tf.to_float(avg_y)\n",
    "    x=tf.multiply(f,avg_x)\n",
    "    m=tf.subtract(z,x)\n",
    "print(m)\n",
    "\n",
    "with tf.Session() as sess:\n",
    "    writer = tf.summary.FileWriter(\"/tmp/tboard/output\", sess.graph)"
   ]
  },
  {
   "cell_type": "code",
   "execution_count": null,
   "metadata": {
    "collapsed": true
   },
   "outputs": [],
   "source": []
  }
 ],
 "metadata": {
  "kernelspec": {
   "display_name": "Python 3",
   "language": "python",
   "name": "python3"
  },
  "language_info": {
   "codemirror_mode": {
    "name": "ipython",
    "version": 3
   },
   "file_extension": ".py",
   "mimetype": "text/x-python",
   "name": "python",
   "nbconvert_exporter": "python",
   "pygments_lexer": "ipython3",
   "version": "3.6.1"
  }
 },
 "nbformat": 4,
 "nbformat_minor": 2
}
