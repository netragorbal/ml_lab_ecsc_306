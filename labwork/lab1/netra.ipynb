{
 "cells": [
  {
   "cell_type": "code",
   "execution_count": 2,
   "metadata": {},
   "outputs": [
    {
     "name": "stdout",
     "output_type": "stream",
     "text": [
      "9\n"
     ]
    }
   ],
   "source": [
    "# (a-b)^2 = a^2+2ab+b^2\n",
    "\n",
    "import tensorflow as tf\n",
    "\n",
    "a=tf.constant(5)\n",
    "b=tf.constant(2)\n",
    "c=tf.multiply(a,b)\n",
    "d=tf.multiply(2,c)\n",
    "e=tf.square(a)\n",
    "f=tf.square(b)\n",
    "g=tf.add(e,f)\n",
    "h=tf.subtract(g,d)\n",
    "\n",
    "sess=tf.Session()\n",
    "print(sess.run(h))\n",
    "\n",
    "writer = tf.summary.FileWriter(\"/tmp/tboard/output\", sess.graph)"
   ]
  },
  {
   "cell_type": "code",
   "execution_count": 1,
   "metadata": {},
   "outputs": [
    {
     "name": "stdout",
     "output_type": "stream",
     "text": [
      "133\n"
     ]
    }
   ],
   "source": [
    "# (a^3+b^3) = (a+b)(a^2-ab+b^2)\n",
    "\n",
    "import tensorflow as tf\n",
    "\n",
    "a=tf.constant(5)\n",
    "b=tf.constant(2)\n",
    "c=tf.add(a,b)\n",
    "d=tf.square(a)\n",
    "e=tf.multiply(a,b)\n",
    "f=tf.square(b)\n",
    "g=tf.subtract(d,e)\n",
    "h=tf.add(g,f)\n",
    "i=tf.multiply(c,h)\n",
    "\n",
    "sess=tf.Session()\n",
    "print(sess.run(i))\n",
    "\n",
    "writer = tf.summary.FileWriter(\"/tmp/tboard/output1\", sess.graph)"
   ]
  },
  {
   "cell_type": "code",
   "execution_count": null,
   "metadata": {
    "collapsed": true
   },
   "outputs": [],
   "source": []
  }
 ],
 "metadata": {
  "kernelspec": {
   "display_name": "Python 3",
   "language": "python",
   "name": "python3"
  },
  "language_info": {
   "codemirror_mode": {
    "name": "ipython",
    "version": 3
   },
   "file_extension": ".py",
   "mimetype": "text/x-python",
   "name": "python",
   "nbconvert_exporter": "python",
   "pygments_lexer": "ipython3",
   "version": "3.6.2"
  }
 },
 "nbformat": 4,
 "nbformat_minor": 2
}
