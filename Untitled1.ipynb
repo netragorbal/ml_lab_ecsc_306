{
 "cells": [
  {
   "cell_type": "code",
   "execution_count": 3,
   "metadata": {},
   "outputs": [
    {
     "name": "stdout",
     "output_type": "stream",
     "text": [
      "9\n"
     ]
    }
   ],
   "source": [
    "import tensorflow as tf\n",
    "v1=tf.constant(5)\n",
    "v2=tf.constant(2)\n",
    "with tf.name_scope(\"Prove_equation\"):\n",
    "    with tf.name_scope(\"Scope_A\"):\n",
    "        a = tf.multiply(v1,v1)\n",
    "        b = tf.multiply(v2,v2)\n",
    "with tf.name_scope(\"Scope_B\"):\n",
    "    c = tf.add(a, b)\n",
    "    d = tf.multiply(v1, v2, name=\"Multiply\")\n",
    "\n",
    "with tf.name_scope(\"Scope_C\"):\n",
    "    e = tf.multiply(2, d, name=\"B_add\")\n",
    "\n",
    "g = tf.subtract(c,e)\n",
    "\n",
    "\n",
    "\n",
    "with tf.Session() as sess:\n",
    "    writer = tf.summary.FileWriter(\"/tmp/tboard/o_2\", sess.graph)\n",
    "    print(sess.run(g))\n",
    "    writer.close()\n"
   ]
  },
  {
   "cell_type": "code",
   "execution_count": 2,
   "metadata": {},
   "outputs": [
    {
     "name": "stdout",
     "output_type": "stream",
     "text": [
      "133\n"
     ]
    }
   ],
   "source": [
    "import tensorflow as tf\n",
    "v1=tf.constant(5)\n",
    "v2=tf.constant(2)\n",
    "with tf.name_scope(\"Prove_equation\"):\n",
    "    with tf.name_scope(\"Scope_A\"):\n",
    "        a = tf.multiply(v1,v1)\n",
    "        b = tf.multiply(v2,v2) \n",
    "with tf.name_scope(\"Scope_B\"):\n",
    "    c = tf.add(a, b)\n",
    "    d = tf.multiply(v1, v2, name=\"Multiply\")\n",
    "\n",
    "with tf.name_scope(\"Scope_C\"):\n",
    "    e=tf.subtract(c,d, name=\"subtraction\")\n",
    "    f=tf.add(v1,v2)\n",
    "    \n",
    "with tf.name_scope(\"Scope_D\"):\n",
    "    g = tf.multiply(f,e)\n",
    "\n",
    "\n",
    "with tf.Session() as sess:\n",
    "    writer = tf.summary.FileWriter(\"/tmp/tboard/o3\", sess.graph)\n",
    "    print(sess.run(g))\n",
    "    writer.close()\n"
   ]
  },
  {
   "cell_type": "code",
   "execution_count": null,
   "metadata": {
    "collapsed": true
   },
   "outputs": [],
   "source": []
  }
 ],
 "metadata": {
  "kernelspec": {
   "display_name": "Python 3",
   "language": "python",
   "name": "python3"
  },
  "language_info": {
   "codemirror_mode": {
    "name": "ipython",
    "version": 3
   },
   "file_extension": ".py",
   "mimetype": "text/x-python",
   "name": "python",
   "nbconvert_exporter": "python",
   "pygments_lexer": "ipython3",
   "version": "3.6.1"
  }
 },
 "nbformat": 4,
 "nbformat_minor": 2
}
